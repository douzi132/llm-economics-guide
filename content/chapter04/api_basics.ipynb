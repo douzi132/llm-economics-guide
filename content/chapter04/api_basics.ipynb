{
 "cells": [
  {
   "cell_type": "markdown",
   "metadata": {},
   "source": [
    "# 4.1 通义千问API基础使用\n",
    "\n",
    "本节将介绍如何使用通义千问API进行基本的文本生成任务。"
   ]
  },
  {
   "cell_type": "code",
   "execution_count": null,
   "metadata": {},
   "outputs": [],
   "source": [
    "# 安装必要的库\n",
    "!pip install dashscope requests\n",
    "\n",
    "import dashscope\n",
    "import os\n",
    "from dashscope import Generation\n",
    "import json"
   ]
  },
  {
   "cell_type": "markdown",
   "metadata": {},
   "source": [
    "## API配置\n",
    "\n",
    "首先需要配置API密钥："
   ]
  },
  {
   "cell_type": "code",
   "execution_count": null,
   "metadata": {},
   "outputs": [],
   "source": [
    "# 设置API密钥\n",
    "# 注意：在实际使用中，请将API密钥设置为环境变量\n",
    "dashscope.api_key = 'your-api-key-here'\n",
    "\n",
    "print('API配置完成！')"
   ]
  }
 ],
 "metadata": {
  "kernelspec": {
   "display_name": "Python 3",
   "language": "python",
   "name": "python3"
  },
  "language_info": {
   "name": "python",
   "version": "3.9.0"
  }
 },
 "nbformat": 4,
 "nbformat_minor": 4
}